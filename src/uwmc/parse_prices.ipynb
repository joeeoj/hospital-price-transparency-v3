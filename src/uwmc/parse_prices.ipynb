{
 "cells": [
  {
   "cell_type": "code",
   "execution_count": 1,
   "id": "594a0821-e476-493c-872e-4698f7d276ca",
   "metadata": {},
   "outputs": [],
   "source": [
    "import pandas as pd"
   ]
  },
  {
   "cell_type": "code",
   "execution_count": 2,
   "id": "f0a4755d-a001-46ca-8a69-ebe07b9d9b65",
   "metadata": {},
   "outputs": [],
   "source": [
    "# excluding units\n",
    "PRICE_COLS = ['cms_certification_num', 'payer', 'code', 'internal_revenue_code',\n",
    "              #'units',\n",
    "              'description', 'inpatient_outpatient', 'price', 'code_disambiguator']\n",
    "\n",
    "PK_COLS = ['cms_certification_num', 'code', 'inpatient_outpatient', 'internal_revenue_code', 'code_disambiguator', 'payer']\n",
    "\n",
    "COL_MAPPING = {\n",
    "    'Procedure/Item ID': 'internal_revenue_code',\n",
    "    'CPT/HCPCS': 'code',\n",
    "    'Description': 'description',\n",
    "    'Price': 'price',\n",
    "}"
   ]
  },
  {
   "cell_type": "code",
   "execution_count": 3,
   "id": "ad03ef45-c9ed-46cd-95ee-298abd29f6f0",
   "metadata": {},
   "outputs": [],
   "source": [
    "def parse_excel(fname: str) -> pd.DataFrame:\n",
    "    df = pd.read_excel(fname).rename(COL_MAPPING, axis=1)\n",
    "\n",
    "    df['cms_certification_num'] = '500064'\n",
    "    df['payer'] = 'GROSS CHARGE'\n",
    "    df['inpatient_outpatient'] = 'UNSPECIFIED'\n",
    "    df['code_disambiguator'] = 'NONE'\n",
    "\n",
    "    # trim description just in case\n",
    "    df['description'] = df['description'].str.strip()\n",
    "\n",
    "    # no null prices\n",
    "    assert df['price'].isnull().sum() == 0\n",
    "\n",
    "    # no nulls\n",
    "    assert df['internal_revenue_code'].isnull().sum() == 0\n",
    "\n",
    "    # need to fill some nulls\n",
    "    assert df['code'].isnull().sum() > 0\n",
    "    df['code'] = df['code'].fillna('NONE')\n",
    "\n",
    "    # no dupe rows across PK columns\n",
    "    assert df[PK_COLS].duplicated().sum() == 0\n",
    "\n",
    "    print(f\"min price: {df['price'].min()}\")\n",
    "    print(f\"max price: {df['price'].max()}\")\n",
    "\n",
    "    return df"
   ]
  },
  {
   "cell_type": "code",
   "execution_count": 4,
   "id": "932d95e6-67f0-4976-9deb-55bef010673d",
   "metadata": {},
   "outputs": [
    {
     "name": "stdout",
     "output_type": "stream",
     "text": [
      "min price: 0.01\n",
      "max price: 820600.0\n"
     ]
    }
   ],
   "source": [
    "hmc = parse_excel('HMC_Fees_20211001.xlsx')\n",
    "hmc[PRICE_COLS].to_csv('prices_hmc.csv', index=False)"
   ]
  },
  {
   "cell_type": "code",
   "execution_count": 5,
   "id": "58527050-ceec-4b42-88a3-98804c548078",
   "metadata": {},
   "outputs": [
    {
     "name": "stdout",
     "output_type": "stream",
     "text": [
      "min price: 0.01\n",
      "max price: 820600.0\n"
     ]
    }
   ],
   "source": [
    "uwmc = parse_excel('UWMC_Fees_20211001.xlsx')\n",
    "uwmc[PRICE_COLS].to_csv('prices_uwmc.csv', index=False)"
   ]
  }
 ],
 "metadata": {
  "kernelspec": {
   "display_name": "Python 3 (ipykernel)",
   "language": "python",
   "name": "python3"
  },
  "language_info": {
   "codemirror_mode": {
    "name": "ipython",
    "version": 3
   },
   "file_extension": ".py",
   "mimetype": "text/x-python",
   "name": "python",
   "nbconvert_exporter": "python",
   "pygments_lexer": "ipython3",
   "version": "3.10.2"
  }
 },
 "nbformat": 4,
 "nbformat_minor": 5
}
