{
 "cells": [
  {
   "cell_type": "code",
   "execution_count": 1,
   "id": "f3cca013-e0b9-4168-a200-361f3dc56f26",
   "metadata": {},
   "outputs": [],
   "source": [
    "from pathlib import Path, PosixPath\n",
    "\n",
    "import pandas as pd\n",
    "from sqlalchemy import create_engine"
   ]
  },
  {
   "cell_type": "code",
   "execution_count": 2,
   "id": "c7c646fc-cd7f-4cee-8a92-e33bc544c76c",
   "metadata": {},
   "outputs": [],
   "source": [
    "def load_sql_or_csv(fname: PosixPath) -> pd.DataFrame:\n",
    "    \"\"\"Either load saved csv or load from database and save as csv\"\"\"\n",
    "    if fname.exists():\n",
    "        print('loading csv')\n",
    "        return pd.read_csv(fname, dtype={'cms_certification_num': str})\n",
    "    else:\n",
    "        print('loading from database')\n",
    "        engine = create_engine(\"mysql+pymysql://root@localhost/hospital_price_transparency_v3\")\n",
    "        remaining_wa = pd.read_sql(\"select * from hospitals WHERE last_edited_by_username IS NULL AND state = 'WA'\", engine)\n",
    "        remaining_wa.to_csv('remaining_wa.csv', index=False)\n",
    "        return remaining_wa"
   ]
  },
  {
   "cell_type": "code",
   "execution_count": 3,
   "id": "f3a4b3fa-1ce9-4269-84b1-3688857f7de5",
   "metadata": {},
   "outputs": [
    {
     "name": "stdout",
     "output_type": "stream",
     "text": [
      "loading csv\n"
     ]
    },
    {
     "data": {
      "text/plain": [
       "85"
      ]
     },
     "execution_count": 3,
     "metadata": {},
     "output_type": "execute_result"
    }
   ],
   "source": [
    "remaining_wa = load_sql_or_csv(Path('remaining_wa.csv'))\n",
    "len(remaining_wa)"
   ]
  },
  {
   "cell_type": "markdown",
   "id": "a0006960-29b6-4efb-adf3-540c4a4c60b1",
   "metadata": {
    "tags": []
   },
   "source": [
    "## create hospitals.csv"
   ]
  },
  {
   "cell_type": "code",
   "execution_count": 4,
   "id": "d589012f-d37c-4967-aade-3b2d82166980",
   "metadata": {},
   "outputs": [
    {
     "data": {
      "text/html": [
       "<div>\n",
       "<style scoped>\n",
       "    .dataframe tbody tr th:only-of-type {\n",
       "        vertical-align: middle;\n",
       "    }\n",
       "\n",
       "    .dataframe tbody tr th {\n",
       "        vertical-align: top;\n",
       "    }\n",
       "\n",
       "    .dataframe thead th {\n",
       "        text-align: right;\n",
       "    }\n",
       "</style>\n",
       "<table border=\"1\" class=\"dataframe\">\n",
       "  <thead>\n",
       "    <tr style=\"text-align: right;\">\n",
       "      <th></th>\n",
       "      <th>cms_certification_num</th>\n",
       "      <th>name</th>\n",
       "      <th>address</th>\n",
       "      <th>city</th>\n",
       "      <th>state</th>\n",
       "      <th>zip5</th>\n",
       "      <th>beds</th>\n",
       "      <th>phone_number</th>\n",
       "      <th>homepage_url</th>\n",
       "      <th>chargemaster_url</th>\n",
       "      <th>last_edited_by_username</th>\n",
       "    </tr>\n",
       "  </thead>\n",
       "  <tbody>\n",
       "    <tr>\n",
       "      <th>36</th>\n",
       "      <td>500008</td>\n",
       "      <td>UNIVERSITY OF WASHINGTON MEDICAL CTR</td>\n",
       "      <td>1959 NE PACIFIC ST  BOX 356151</td>\n",
       "      <td>SEATTLE</td>\n",
       "      <td>WA</td>\n",
       "      <td>98195</td>\n",
       "      <td>450</td>\n",
       "      <td>2065983300</td>\n",
       "      <td>https://www.uwmedicine.org/</td>\n",
       "      <td>https://www.uwmedicine.org/patient-resources/b...</td>\n",
       "      <td>joeeoj</td>\n",
       "    </tr>\n",
       "    <tr>\n",
       "      <th>58</th>\n",
       "      <td>500064</td>\n",
       "      <td>HARBORVIEW MEDICAL CENTER</td>\n",
       "      <td>325 9TH AVENUE</td>\n",
       "      <td>SEATTLE</td>\n",
       "      <td>WA</td>\n",
       "      <td>98104</td>\n",
       "      <td>413</td>\n",
       "      <td>2067313000</td>\n",
       "      <td>https://www.uwmedicine.org/locations/harborvie...</td>\n",
       "      <td>https://www.uwmedicine.org/patient-resources/b...</td>\n",
       "      <td>joeeoj</td>\n",
       "    </tr>\n",
       "  </tbody>\n",
       "</table>\n",
       "</div>"
      ],
      "text/plain": [
       "   cms_certification_num                                  name  \\\n",
       "36                500008  UNIVERSITY OF WASHINGTON MEDICAL CTR   \n",
       "58                500064             HARBORVIEW MEDICAL CENTER   \n",
       "\n",
       "                           address     city state   zip5  beds  phone_number  \\\n",
       "36  1959 NE PACIFIC ST  BOX 356151  SEATTLE    WA  98195   450    2065983300   \n",
       "58                  325 9TH AVENUE  SEATTLE    WA  98104   413    2067313000   \n",
       "\n",
       "                                         homepage_url  \\\n",
       "36                        https://www.uwmedicine.org/   \n",
       "58  https://www.uwmedicine.org/locations/harborvie...   \n",
       "\n",
       "                                     chargemaster_url last_edited_by_username  \n",
       "36  https://www.uwmedicine.org/patient-resources/b...                  joeeoj  \n",
       "58  https://www.uwmedicine.org/patient-resources/b...                  joeeoj  "
      ]
     },
     "execution_count": 4,
     "metadata": {},
     "output_type": "execute_result"
    }
   ],
   "source": [
    "uwmc = remaining_wa[remaining_wa['cms_certification_num'] == '500008'].copy()\n",
    "harborview = remaining_wa[remaining_wa['cms_certification_num'] == '500064'].copy()\n",
    "\n",
    "uwmc['homepage_url'] = 'https://www.uwmedicine.org/'\n",
    "harborview['homepage_url'] = 'https://www.uwmedicine.org/locations/harborview-medical-center'\n",
    "\n",
    "# same overall hopsital, different locations\n",
    "uwmc['chargemaster_url'] = 'https://www.uwmedicine.org/patient-resources/billing-and-insurance/charge-description-master-codes'\n",
    "harborview['chargemaster_url'] = 'https://www.uwmedicine.org/patient-resources/billing-and-insurance/charge-description-master-codes'\n",
    "\n",
    "uwmc['last_edited_by_username'] = 'joeeoj'\n",
    "harborview['last_edited_by_username'] = 'joeeoj'\n",
    "\n",
    "hospitals = pd.concat([uwmc, harborview])\n",
    "\n",
    "hospitals"
   ]
  },
  {
   "cell_type": "code",
   "execution_count": 5,
   "id": "43bd4a20-69ee-415e-9658-e3532525f018",
   "metadata": {},
   "outputs": [],
   "source": [
    "hospitals.to_csv('hospitals.csv', index=False)"
   ]
  }
 ],
 "metadata": {
  "kernelspec": {
   "display_name": "Python 3 (ipykernel)",
   "language": "python",
   "name": "python3"
  },
  "language_info": {
   "codemirror_mode": {
    "name": "ipython",
    "version": 3
   },
   "file_extension": ".py",
   "mimetype": "text/x-python",
   "name": "python",
   "nbconvert_exporter": "python",
   "pygments_lexer": "ipython3",
   "version": "3.10.2"
  }
 },
 "nbformat": 4,
 "nbformat_minor": 5
}
