{
 "cells": [
  {
   "cell_type": "markdown",
   "id": "151b1fd0-a9a2-4683-a27e-dda82441b98c",
   "metadata": {},
   "source": [
    "# check for dupes and convert NaNs to NONEs"
   ]
  },
  {
   "cell_type": "code",
   "execution_count": 1,
   "id": "2f0fb1b8-be74-40cf-a553-4bdaefc05124",
   "metadata": {},
   "outputs": [],
   "source": [
    "import pandas as pd\n",
    "\n",
    "pd.set_option('colwidth', 100)"
   ]
  },
  {
   "cell_type": "code",
   "execution_count": 2,
   "id": "f772be79-3e55-4fcb-bcc1-361c4dac1f26",
   "metadata": {},
   "outputs": [],
   "source": [
    "PK_COLS = ['cms_certification_num', 'code', 'inpatient_outpatient', 'internal_revenue_code', 'code_disambiguator', 'payer']"
   ]
  },
  {
   "cell_type": "code",
   "execution_count": 3,
   "id": "399e48f3-0bbf-4733-a102-2abce8926941",
   "metadata": {},
   "outputs": [],
   "source": [
    "def update_code_disambiguator(row: pd.Series) -> str:\n",
    "    cd, val = row\n",
    "    \n",
    "    if pd.isnull(cd) or cd == 'NONE':\n",
    "        return str(val)\n",
    "    return cd + '-' + str(val)"
   ]
  },
  {
   "cell_type": "markdown",
   "id": "423d3911-9d8d-4023-92cb-4e53b2414f45",
   "metadata": {},
   "source": [
    "Need to dedupe some rows (mostly insurance payers) because they don't have much `code` data or any `internal_revenue_code` information"
   ]
  },
  {
   "cell_type": "code",
   "execution_count": 4,
   "id": "8d7ee9e2-63db-459d-9a4e-209fe1a2c4e8",
   "metadata": {},
   "outputs": [
    {
     "name": "stdout",
     "output_type": "stream",
     "text": [
      "Duplicate rows across primary key: 820\n",
      "min price: 1.00\n",
      "max price: 500,535.00\n"
     ]
    },
    {
     "data": {
      "text/html": [
       "<div>\n",
       "<style scoped>\n",
       "    .dataframe tbody tr th:only-of-type {\n",
       "        vertical-align: middle;\n",
       "    }\n",
       "\n",
       "    .dataframe tbody tr th {\n",
       "        vertical-align: top;\n",
       "    }\n",
       "\n",
       "    .dataframe thead th {\n",
       "        text-align: right;\n",
       "    }\n",
       "</style>\n",
       "<table border=\"1\" class=\"dataframe\">\n",
       "  <thead>\n",
       "    <tr style=\"text-align: right;\">\n",
       "      <th></th>\n",
       "      <th>cms_certification_num</th>\n",
       "      <th>payer</th>\n",
       "      <th>code</th>\n",
       "      <th>internal_revenue_code</th>\n",
       "      <th>description</th>\n",
       "      <th>inpatient_outpatient</th>\n",
       "      <th>price</th>\n",
       "      <th>code_disambiguator</th>\n",
       "    </tr>\n",
       "  </thead>\n",
       "  <tbody>\n",
       "    <tr>\n",
       "      <th>0</th>\n",
       "      <td>20001</td>\n",
       "      <td>GROSS CHARGE</td>\n",
       "      <td>C1876</td>\n",
       "      <td>Px0000085419L</td>\n",
       "      <td>HC ICAST STENT 9X59X120</td>\n",
       "      <td>BOTH</td>\n",
       "      <td>12652.0</td>\n",
       "      <td>NONE</td>\n",
       "    </tr>\n",
       "    <tr>\n",
       "      <th>1</th>\n",
       "      <td>20001</td>\n",
       "      <td>GROSS CHARGE</td>\n",
       "      <td>C1876</td>\n",
       "      <td>Px0000085424L</td>\n",
       "      <td>HC ICAST STENT 9X38X120</td>\n",
       "      <td>BOTH</td>\n",
       "      <td>11742.0</td>\n",
       "      <td>NONE</td>\n",
       "    </tr>\n",
       "  </tbody>\n",
       "</table>\n",
       "</div>"
      ],
      "text/plain": [
       "   cms_certification_num         payer   code internal_revenue_code  \\\n",
       "0                  20001  GROSS CHARGE  C1876         Px0000085419L   \n",
       "1                  20001  GROSS CHARGE  C1876         Px0000085424L   \n",
       "\n",
       "               description inpatient_outpatient    price code_disambiguator  \n",
       "0  HC ICAST STENT 9X59X120                 BOTH  12652.0               NONE  \n",
       "1  HC ICAST STENT 9X38X120                 BOTH  11742.0               NONE  "
      ]
     },
     "execution_count": 4,
     "metadata": {},
     "output_type": "execute_result"
    }
   ],
   "source": [
    "df = pd.read_csv('firstpass_prices.csv')\n",
    "\n",
    "pk_dupes = df[PK_COLS].duplicated(keep=False)\n",
    "print(f'Duplicate rows across primary key: {pk_dupes.sum():,}')\n",
    "\n",
    "# deal with pk dupe cols using code_disambiguator\n",
    "df['add_val'] = None\n",
    "df['add_val'] = df[pk_dupes].sort_values(PK_COLS + ['description']).groupby(PK_COLS).cumcount() + 1\n",
    "df['add_val'] = df['add_val'].astype(pd.Int64Dtype())\n",
    "\n",
    "df.loc[pk_dupes, 'code_disambiguator'] = df[['code_disambiguator', 'add_val']].apply(update_code_disambiguator, axis=1)\n",
    "\n",
    "df = df.drop('add_val', axis=1)\n",
    "\n",
    "assert df[PK_COLS].duplicated().sum() == 0\n",
    "assert df.duplicated().sum() == 0\n",
    "\n",
    "# check prices\n",
    "assert df['price'].isnull().sum() == 0\n",
    "assert (df['price'] == 0).sum() == 0\n",
    "\n",
    "# fill in null code\n",
    "assert df['code'].isnull().sum() > 0\n",
    "df.loc[df['code'].isnull(), 'code'] = 'NONE'\n",
    "\n",
    "# check other cols\n",
    "df['inpatient_outpatient'].isnull().sum() == 0\n",
    "df['code_disambiguator'].isnull().sum() == 0\n",
    "\n",
    "print(f\"min price: {df['price'].min():,.2f}\")\n",
    "print(f\"max price: {df['price'].max():,.2f}\")\n",
    "\n",
    "df.head(2)"
   ]
  },
  {
   "cell_type": "code",
   "execution_count": 5,
   "id": "b3e35f80-37a6-4ce3-87e7-a0855250f70a",
   "metadata": {},
   "outputs": [],
   "source": [
    "df.to_csv('prices.csv', index=False)"
   ]
  },
  {
   "cell_type": "code",
   "execution_count": 6,
   "id": "91b222db-f427-43a0-a04f-0f9a0ac44efa",
   "metadata": {},
   "outputs": [
    {
     "data": {
      "text/html": [
       "<style type=\"text/css\">\n",
       "</style>\n",
       "<table id=\"T_90759\">\n",
       "  <thead>\n",
       "    <tr>\n",
       "      <th class=\"blank level0\" >&nbsp;</th>\n",
       "      <th id=\"T_90759_level0_col0\" class=\"col_heading level0 col0\" >sum</th>\n",
       "      <th id=\"T_90759_level0_col1\" class=\"col_heading level0 col1\" >count</th>\n",
       "    </tr>\n",
       "    <tr>\n",
       "      <th class=\"index_name level0\" >payer</th>\n",
       "      <th class=\"blank col0\" >&nbsp;</th>\n",
       "      <th class=\"blank col1\" >&nbsp;</th>\n",
       "    </tr>\n",
       "  </thead>\n",
       "  <tbody>\n",
       "    <tr>\n",
       "      <th id=\"T_90759_level0_row0\" class=\"row_heading level0 row0\" >MAX</th>\n",
       "      <td id=\"T_90759_row0_col0\" class=\"data row0 col0\" >14,455,978.00</td>\n",
       "      <td id=\"T_90759_row0_col1\" class=\"data row0 col1\" >298</td>\n",
       "    </tr>\n",
       "    <tr>\n",
       "      <th id=\"T_90759_level0_row1\" class=\"row_heading level0 row1\" >MIN</th>\n",
       "      <td id=\"T_90759_row1_col0\" class=\"data row1 col0\" >12,803,305.00</td>\n",
       "      <td id=\"T_90759_row1_col1\" class=\"data row1 col1\" >410</td>\n",
       "    </tr>\n",
       "    <tr>\n",
       "      <th id=\"T_90759_level0_row2\" class=\"row_heading level0 row2\" >GROSS CHARGE</th>\n",
       "      <td id=\"T_90759_row2_col0\" class=\"data row2 col0\" >12,230,838.00</td>\n",
       "      <td id=\"T_90759_row2_col1\" class=\"data row2 col1\" >4294</td>\n",
       "    </tr>\n",
       "    <tr>\n",
       "      <th id=\"T_90759_level0_row3\" class=\"row_heading level0 row3\" >Premera Preferred</th>\n",
       "      <td id=\"T_90759_row3_col0\" class=\"data row3 col0\" >10,972,404.00</td>\n",
       "      <td id=\"T_90759_row3_col1\" class=\"data row3 col1\" >327</td>\n",
       "    </tr>\n",
       "    <tr>\n",
       "      <th id=\"T_90759_level0_row4\" class=\"row_heading level0 row4\" >CASH PRICE</th>\n",
       "      <td id=\"T_90759_row4_col0\" class=\"data row4 col0\" >9,783,105.00</td>\n",
       "      <td id=\"T_90759_row4_col1\" class=\"data row4 col1\" >4294</td>\n",
       "    </tr>\n",
       "    <tr>\n",
       "      <th id=\"T_90759_level0_row5\" class=\"row_heading level0 row5\" >Aetna PPO</th>\n",
       "      <td id=\"T_90759_row5_col0\" class=\"data row5 col0\" >2,373,125.00</td>\n",
       "      <td id=\"T_90759_row5_col1\" class=\"data row5 col1\" >125</td>\n",
       "    </tr>\n",
       "    <tr>\n",
       "      <th id=\"T_90759_level0_row6\" class=\"row_heading level0 row6\" >UnitedHealthcare</th>\n",
       "      <td id=\"T_90759_row6_col0\" class=\"data row6 col0\" >2,145,633.00</td>\n",
       "      <td id=\"T_90759_row6_col1\" class=\"data row6 col1\" >57</td>\n",
       "    </tr>\n",
       "    <tr>\n",
       "      <th id=\"T_90759_level0_row7\" class=\"row_heading level0 row7\" >Public Education Health Trust</th>\n",
       "      <td id=\"T_90759_row7_col0\" class=\"data row7 col0\" >1,856,404.00</td>\n",
       "      <td id=\"T_90759_row7_col1\" class=\"data row7 col1\" >103</td>\n",
       "    </tr>\n",
       "    <tr>\n",
       "      <th id=\"T_90759_level0_row8\" class=\"row_heading level0 row8\" >Aetna SOA - Retirees</th>\n",
       "      <td id=\"T_90759_row8_col0\" class=\"data row8 col0\" >1,607,764.00</td>\n",
       "      <td id=\"T_90759_row8_col1\" class=\"data row8 col1\" >70</td>\n",
       "    </tr>\n",
       "    <tr>\n",
       "      <th id=\"T_90759_level0_row9\" class=\"row_heading level0 row9\" >Pacific Health Coalition</th>\n",
       "      <td id=\"T_90759_row9_col0\" class=\"data row9 col0\" >1,218,081.00</td>\n",
       "      <td id=\"T_90759_row9_col1\" class=\"data row9 col1\" >64</td>\n",
       "    </tr>\n",
       "    <tr>\n",
       "      <th id=\"T_90759_level0_row10\" class=\"row_heading level0 row10\" >Aetna SOA - Active</th>\n",
       "      <td id=\"T_90759_row10_col0\" class=\"data row10 col0\" >1,178,215.00</td>\n",
       "      <td id=\"T_90759_row10_col1\" class=\"data row10 col1\" >61</td>\n",
       "    </tr>\n",
       "    <tr>\n",
       "      <th id=\"T_90759_level0_row11\" class=\"row_heading level0 row11\" >Cigna</th>\n",
       "      <td id=\"T_90759_row11_col0\" class=\"data row11 col0\" >1,130,795.00</td>\n",
       "      <td id=\"T_90759_row11_col1\" class=\"data row11 col1\" >68</td>\n",
       "    </tr>\n",
       "    <tr>\n",
       "      <th id=\"T_90759_level0_row12\" class=\"row_heading level0 row12\" >First Choice</th>\n",
       "      <td id=\"T_90759_row12_col0\" class=\"data row12 col0\" >571,533.00</td>\n",
       "      <td id=\"T_90759_row12_col1\" class=\"data row12 col1\" >26</td>\n",
       "    </tr>\n",
       "    <tr>\n",
       "      <th id=\"T_90759_level0_row13\" class=\"row_heading level0 row13\" >Aetna Signature</th>\n",
       "      <td id=\"T_90759_row13_col0\" class=\"data row13 col0\" >554,807.00</td>\n",
       "      <td id=\"T_90759_row13_col1\" class=\"data row13 col1\" >49</td>\n",
       "    </tr>\n",
       "    <tr>\n",
       "      <th id=\"T_90759_level0_row14\" class=\"row_heading level0 row14\" >UnitedHealthcare - Core</th>\n",
       "      <td id=\"T_90759_row14_col0\" class=\"data row14 col0\" >336,589.00</td>\n",
       "      <td id=\"T_90759_row14_col1\" class=\"data row14 col1\" >20</td>\n",
       "    </tr>\n",
       "    <tr>\n",
       "      <th id=\"T_90759_level0_row15\" class=\"row_heading level0 row15\" >Medicare Managed Care - UHC</th>\n",
       "      <td id=\"T_90759_row15_col0\" class=\"data row15 col0\" >297,856.00</td>\n",
       "      <td id=\"T_90759_row15_col1\" class=\"data row15 col1\" >43</td>\n",
       "    </tr>\n",
       "    <tr>\n",
       "      <th id=\"T_90759_level0_row16\" class=\"row_heading level0 row16\" >Multiplan</th>\n",
       "      <td id=\"T_90759_row16_col0\" class=\"data row16 col0\" >195,376.00</td>\n",
       "      <td id=\"T_90759_row16_col1\" class=\"data row16 col1\" >15</td>\n",
       "    </tr>\n",
       "    <tr>\n",
       "      <th id=\"T_90759_level0_row17\" class=\"row_heading level0 row17\" >Medicare Managed Care - Premera</th>\n",
       "      <td id=\"T_90759_row17_col0\" class=\"data row17 col0\" >42,427.00</td>\n",
       "      <td id=\"T_90759_row17_col1\" class=\"data row17 col1\" >6</td>\n",
       "    </tr>\n",
       "    <tr>\n",
       "      <th id=\"T_90759_level0_row18\" class=\"row_heading level0 row18\" >Moda Endeavor PPO/open/networks</th>\n",
       "      <td id=\"T_90759_row18_col0\" class=\"data row18 col0\" >21,220.00</td>\n",
       "      <td id=\"T_90759_row18_col1\" class=\"data row18 col1\" >10</td>\n",
       "    </tr>\n",
       "    <tr>\n",
       "      <th id=\"T_90759_level0_row19\" class=\"row_heading level0 row19\" >Medicare Managed Care - PHP</th>\n",
       "      <td id=\"T_90759_row19_col0\" class=\"data row19 col0\" >357.00</td>\n",
       "      <td id=\"T_90759_row19_col1\" class=\"data row19 col1\" >1</td>\n",
       "    </tr>\n",
       "  </tbody>\n",
       "</table>\n"
      ],
      "text/plain": [
       "<pandas.io.formats.style.Styler at 0x11a91e080>"
      ]
     },
     "execution_count": 6,
     "metadata": {},
     "output_type": "execute_result"
    }
   ],
   "source": [
    "df.groupby('payer')['price'].agg(['sum', 'count']).sort_values('sum', ascending=False).style.format({'sum': '{:,.2f}'})"
   ]
  },
  {
   "cell_type": "markdown",
   "id": "2d753816-71f9-4ffc-82c8-7a6d4a6c9514",
   "metadata": {},
   "source": [
    "also create hospitals file"
   ]
  },
  {
   "cell_type": "code",
   "execution_count": 7,
   "id": "5a3e24ec-89a9-4f71-a1c9-97232635d317",
   "metadata": {},
   "outputs": [],
   "source": [
    "homepage = 'https://www.providence.org/'\n",
    "charge_url = 'https://www.providence.org/obp/ak/pricing-transparency'\n",
    "\n",
    "cols = ['cms_certification_num', 'name', 'address', 'city', 'state', 'zip5', 'beds', 'phone_number', 'homepage_url', 'chargemaster_url', 'last_edited_by_username']\n",
    "data = [['020001', 'PROVIDENCE ALASKA MEDICAL CENTER', '3200 PROVIDENCE DRIVE', 'ANCHORAGE', 'AK', '99508', 401, '9075622211'] + [homepage, charge_url, 'joeeoj']]\n",
    "\n",
    "pd.DataFrame(data, columns=cols).to_csv('hospitals.csv', index=False)"
   ]
  }
 ],
 "metadata": {
  "kernelspec": {
   "display_name": "Python 3 (ipykernel)",
   "language": "python",
   "name": "python3"
  },
  "language_info": {
   "codemirror_mode": {
    "name": "ipython",
    "version": 3
   },
   "file_extension": ".py",
   "mimetype": "text/x-python",
   "name": "python",
   "nbconvert_exporter": "python",
   "pygments_lexer": "ipython3",
   "version": "3.10.2"
  }
 },
 "nbformat": 4,
 "nbformat_minor": 5
}
