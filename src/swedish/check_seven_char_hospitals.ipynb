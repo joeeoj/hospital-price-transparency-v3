{
 "cells": [
  {
   "cell_type": "markdown",
   "id": "b0ccfc3b-93e8-45c0-a907-7467dba9060a",
   "metadata": {},
   "source": [
    "# Dupe Swedish prices\n",
    "\n",
    "These three hopsitals have a 7 instead of 6 character CMS certification number. As suspected they are all just copies of the Swedish First Hill prices (500027) so they can be ignored."
   ]
  },
  {
   "cell_type": "code",
   "execution_count": 1,
   "id": "41722366-55d2-44d0-939a-78e71b324678",
   "metadata": {},
   "outputs": [],
   "source": [
    "import pandas as pd"
   ]
  },
  {
   "cell_type": "code",
   "execution_count": 2,
   "id": "c36ab830-032c-4c0b-9fe1-c524d98f0f3c",
   "metadata": {},
   "outputs": [
    {
     "name": "stdout",
     "output_type": "stream",
     "text": [
      "[500027 '500027R' '500027B' '500027M']\n",
      "total rows: 67,316\n",
      " dupe rows: 67,316\n"
     ]
    }
   ],
   "source": [
    "files = ['prices_first_hill.csv', 'prices_redmond.csv', 'prices_ballard.csv', 'prices_mill_creek.csv']\n",
    "\n",
    "df = pd.concat([pd.read_csv(f) for f in files])\n",
    "print(df['cms_certification_num'].unique())\n",
    "\n",
    "df = df.drop('cms_certification_num', axis=1)\n",
    "\n",
    "dupes = (df.duplicated(keep=False))\n",
    "print(f\"total rows: {len(df):,}\")\n",
    "print(f\" dupe rows: {dupes.sum():,}\")"
   ]
  },
  {
   "cell_type": "code",
   "execution_count": 3,
   "id": "009206d7-26c2-4503-81aa-2e428d11e168",
   "metadata": {},
   "outputs": [
    {
     "data": {
      "text/plain": [
       "0"
      ]
     },
     "execution_count": 3,
     "metadata": {},
     "output_type": "execute_result"
    }
   ],
   "source": [
    "(~dupes).sum()"
   ]
  }
 ],
 "metadata": {
  "kernelspec": {
   "display_name": "Python 3 (ipykernel)",
   "language": "python",
   "name": "python3"
  },
  "language_info": {
   "codemirror_mode": {
    "name": "ipython",
    "version": 3
   },
   "file_extension": ".py",
   "mimetype": "text/x-python",
   "name": "python",
   "nbconvert_exporter": "python",
   "pygments_lexer": "ipython3",
   "version": "3.10.2"
  }
 },
 "nbformat": 4,
 "nbformat_minor": 5
}
