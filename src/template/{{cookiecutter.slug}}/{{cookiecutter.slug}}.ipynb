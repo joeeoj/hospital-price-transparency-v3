{
 "cells": [
  {
   "cell_type": "code",
   "execution_count": null,
   "id": "f109565e-9174-4eae-a2c3-6e621fdf42dd",
   "metadata": {},
   "outputs": [],
   "source": [
    "from pathlib import Path, PosixPath\n",
    "\n",
    "import pandas as pd\n",
    "from sqlalchemy import create_engine\n",
    "\n",
    "from src import COMPLETED"
   ]
  },
  {
   "cell_type": "code",
   "execution_count": null,
   "id": "bea063b2-4000-4b8e-9ead-6907904b2854",
   "metadata": {},
   "outputs": [],
   "source": [
    "PRICE_COLS = ['cms_certification_num', 'payer', 'code', 'internal_revenue_code',\n",
    "              #'units',\n",
    "              'description', 'inpatient_outpatient', 'price', 'code_disambiguator']\n",
    "\n",
    "PK_COLS = ['cms_certification_num', 'code', 'inpatient_outpatient', 'internal_revenue_code',\n",
    "           'code_disambiguator', 'payer']\n",
    "\n",
    "COL_MAPPING = {\n",
    "    'internal_revenue_code': None,\n",
    "    'code': None,\n",
    "    'description': None,\n",
    "    'price': None,\n",
    "}\n",
    "\n",
    "CMS_CODE = \"{{ cookiecutter.cms }}\"\n",
    "HOMEPAGE_URL = \"{{ cookiecutter.homepage_url }}\"\n",
    "CHARGEMASTER_URL = \"{{ cookiecutter.chargemaster_url}}\""
   ]
  },
  {
   "cell_type": "code",
   "execution_count": null,
   "id": "135936f1-5f84-4608-bc00-500d6b5a7e1c",
   "metadata": {},
   "outputs": [],
   "source": [
    "def load_sql_or_csv(fname: PosixPath) -> pd.DataFrame:\n",
    "    \"\"\"Either load saved csv or load from database and save as csv\"\"\"\n",
    "    if fname.exists():\n",
    "        print('loading csv')\n",
    "        return pd.read_csv(fname, dtype={'cms_certification_num': str})\n",
    "    else:\n",
    "        print('loading from database')\n",
    "        engine = create_engine(\"mysql+pymysql://root@localhost/hospital_price_transparency_v3\")\n",
    "        remaining_wa = pd.read_sql(\"select * from hospitals WHERE last_edited_by_username IS NULL AND state = 'WA'\", engine)\n",
    "        remaining_wa['cms_certification_num'] = remaining_wa['cms_certification_num'].astype(str)\n",
    "        remaining_wa.to_csv('remaining_wa.csv', index=False)\n",
    "\n",
    "        return remaining_wa\n",
    "\n",
    "def create_hospital_row(df: pd.DataFrame, cms: str, homepage_url: str, charge_url: str) -> pd.DataFrame:\n",
    "    t = df[df['cms_certification_num'] == cms].copy()\n",
    "    t['homepage_url'] = homepage_url\n",
    "    t['chargemaster_url'] = charge_url\n",
    "    t['last_edited_by_username'] = 'joeeoj'\n",
    "\n",
    "    return t"
   ]
  },
  {
   "cell_type": "code",
   "execution_count": null,
   "id": "31bfdefc-404b-4c36-82fe-6a7810aef220",
   "metadata": {},
   "outputs": [],
   "source": [
    "remaining_wa = load_sql_or_csv(Path('remaining_wa.csv'))\n",
    "remaining_wa = remaining_wa[~remaining_wa.isin(COMPLETED)]\n",
    "\n",
    "remaining_wa.sort_values('city').head(5)"
   ]
  },
  {
   "cell_type": "markdown",
   "id": "cc5909e0-d94a-4c79-bc87-fa6126fbe3f7",
   "metadata": {},
   "source": [
    "## hospital"
   ]
  },
  {
   "cell_type": "code",
   "execution_count": null,
   "id": "b9cd8d5e-9a51-407e-a096-ef0a4592fa43",
   "metadata": {},
   "outputs": [],
   "source": [
    "hospital = create_hospital_row(remaining_wa, CMS_CODE, HOMEPAGE_URL, CHARGEMASTER_URL)\n",
    "\n",
    "hospital"
   ]
  },
  {
   "cell_type": "markdown",
   "id": "be7523d0-2cb6-4459-a172-c82bf9de542e",
   "metadata": {},
   "source": [
    "## prices"
   ]
  },
  {
   "cell_type": "code",
   "execution_count": null,
   "id": "f3498a06-7bbf-414e-85b2-81a09af10cb9",
   "metadata": {},
   "outputs": [],
   "source": [
    "fname = \"{{ cookiecutter.fname }}\"\n",
    "if fname.endswith('.csv'):\n",
    "    df = pd.read_csv(fname).rename(COL_MAPPING, axis=1)\n",
    "elif fname.endswith('.xlsx'):\n",
    "    df = pd.read_excel(fname).rename(COL_MAPPING, axis=1)\n",
    "\n",
    "df['cms_certification_num'] = CMS_CODE\n",
    "df['payer'] = 'GROSS CHARGE'\n",
    "df['inpatient_outpatient'] = 'UNSPECIFIED'\n",
    "df['code_disambiguator'] = 'NONE'\n",
    "\n",
    "# trim description just in case\n",
    "df['description'] = df['description'].str.strip()\n",
    "\n",
    "# no null prices\n",
    "assert df['price'].isnull().sum() == 0\n",
    "\n",
    "# no nulls\n",
    "assert df['internal_revenue_code'].isnull().sum() == 0\n",
    "\n",
    "# need to fill some nulls\n",
    "assert df['code'].isnull().sum() > 0\n",
    "df['code'] = df['code'].fillna('NONE')\n",
    "\n",
    "# no dupe rows across PK columns\n",
    "assert df[PK_COLS].duplicated().sum() == 0\n",
    "\n",
    "print(f\"min price: {df['price'].min()}\")\n",
    "print(f\"max price: {df['price'].max()}\")\n",
    "\n",
    "return df"
   ]
  }
 ],
 "metadata": {
  "kernelspec": {
   "display_name": "Python 3 (ipykernel)",
   "language": "python",
   "name": "python3"
  },
  "language_info": {
   "codemirror_mode": {
    "name": "ipython",
    "version": 3
   },
   "file_extension": ".py",
   "mimetype": "text/x-python",
   "name": "python",
   "nbconvert_exporter": "python",
   "pygments_lexer": "ipython3",
   "version": "3.10.2"
  }
 },
 "nbformat": 4,
 "nbformat_minor": 5
}
