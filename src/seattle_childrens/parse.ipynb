{
 "cells": [
  {
   "cell_type": "code",
   "execution_count": 1,
   "id": "3a0ed232-e2e4-433d-910d-5aec70523ead",
   "metadata": {},
   "outputs": [],
   "source": [
    "import pandas as pd\n",
    "\n",
    "pd.set_option('max_colwidth', 100)"
   ]
  },
  {
   "cell_type": "code",
   "execution_count": 2,
   "id": "33b3633e-e704-43fd-b99c-3412e1797d18",
   "metadata": {},
   "outputs": [],
   "source": [
    "# excluding units\n",
    "PRICE_COLS = ['cms_certification_num', 'payer', 'code', 'internal_revenue_code',\n",
    "              #'units',\n",
    "              'description', 'inpatient_outpatient', 'price', 'code_disambiguator']\n",
    "\n",
    "PK_COLS = ['cms_certification_num', 'code', 'inpatient_outpatient', 'internal_revenue_code', 'code_disambiguator', 'payer']\n",
    "\n",
    "COL_MAPPING = {\n",
    "    'Code': 'code',\n",
    "    'Description': 'description',\n",
    "    'Charges': 'gross',\n",
    "    'Self-Pay Rate': 'cash',\n",
    "}\n",
    "\n",
    "CMS_CODE = '503300'"
   ]
  },
  {
   "cell_type": "markdown",
   "id": "72dfcc20-92a2-459f-b586-f39dd06008a6",
   "metadata": {},
   "source": [
    "## hosptials"
   ]
  },
  {
   "cell_type": "code",
   "execution_count": 3,
   "id": "63a9235d-4a43-4aec-89bd-7ad0d394c7fe",
   "metadata": {},
   "outputs": [],
   "source": [
    "hospitals = pd.read_csv('../remaining_wa.csv', dtype={'cms_certification_num': str})\n",
    "hospitals = hospitals[hospitals['cms_certification_num'] == CMS_CODE]\n",
    "\n",
    "hospitals['homepage_url'] = 'https://www.seattlechildrens.org/'\n",
    "hospitals['chargemaster_url'] = 'https://www.seattlechildrens.org/clinics/paying-for-care/insurance/'\n",
    "hospitals['last_edited_by_username'] = 'joeeoj'\n",
    "\n",
    "hospitals.to_csv('hospitals.csv', index=False)"
   ]
  },
  {
   "cell_type": "markdown",
   "id": "fe257964-1985-4569-8b19-aa0fbca00f7d",
   "metadata": {},
   "source": [
    "## prices"
   ]
  },
  {
   "cell_type": "code",
   "execution_count": 4,
   "id": "936981f5-4d6c-4fff-8c2b-3b24ab738f13",
   "metadata": {},
   "outputs": [
    {
     "name": "stdout",
     "output_type": "stream",
     "text": [
      "Dropping 3,652 rows with null price\n",
      "Dropping 4 rows with $ 0.00 price\n",
      "\n",
      "min price: $ 0.04\n",
      "max price: $ 2,656,278.60\n"
     ]
    },
    {
     "data": {
      "text/html": [
       "<div>\n",
       "<style scoped>\n",
       "    .dataframe tbody tr th:only-of-type {\n",
       "        vertical-align: middle;\n",
       "    }\n",
       "\n",
       "    .dataframe tbody tr th {\n",
       "        vertical-align: top;\n",
       "    }\n",
       "\n",
       "    .dataframe thead th {\n",
       "        text-align: right;\n",
       "    }\n",
       "</style>\n",
       "<table border=\"1\" class=\"dataframe\">\n",
       "  <thead>\n",
       "    <tr style=\"text-align: right;\">\n",
       "      <th></th>\n",
       "      <th>cms_certification_num</th>\n",
       "      <th>code</th>\n",
       "      <th>internal_revenue_code</th>\n",
       "      <th>description</th>\n",
       "      <th>inpatient_outpatient</th>\n",
       "      <th>code_disambiguator</th>\n",
       "      <th>price</th>\n",
       "      <th>payer</th>\n",
       "    </tr>\n",
       "  </thead>\n",
       "  <tbody>\n",
       "    <tr>\n",
       "      <th>2</th>\n",
       "      <td>503300</td>\n",
       "      <td>NONE</td>\n",
       "      <td>NONE</td>\n",
       "      <td>MR ANGIO PELVIS WITH CONTRAST</td>\n",
       "      <td>UNSPECIFIED</td>\n",
       "      <td>RADIOLOGY-CPTHCPCS</td>\n",
       "      <td>2871.38</td>\n",
       "      <td>CASH PRICE</td>\n",
       "    </tr>\n",
       "    <tr>\n",
       "      <th>3</th>\n",
       "      <td>503300</td>\n",
       "      <td>NONE</td>\n",
       "      <td>NONE</td>\n",
       "      <td>THERAPEUTIC BEHAVIORAL SERVICES PER DIEM</td>\n",
       "      <td>UNSPECIFIED</td>\n",
       "      <td>PSYCHIATRY-CPTHCPCS</td>\n",
       "      <td>743.25</td>\n",
       "      <td>CASH PRICE</td>\n",
       "    </tr>\n",
       "  </tbody>\n",
       "</table>\n",
       "</div>"
      ],
      "text/plain": [
       "  cms_certification_num  code internal_revenue_code  \\\n",
       "2                503300  NONE                  NONE   \n",
       "3                503300  NONE                  NONE   \n",
       "\n",
       "                                description inpatient_outpatient  \\\n",
       "2             MR ANGIO PELVIS WITH CONTRAST          UNSPECIFIED   \n",
       "3  THERAPEUTIC BEHAVIORAL SERVICES PER DIEM          UNSPECIFIED   \n",
       "\n",
       "    code_disambiguator    price       payer  \n",
       "2   RADIOLOGY-CPTHCPCS  2871.38  CASH PRICE  \n",
       "3  PSYCHIATRY-CPTHCPCS   743.25  CASH PRICE  "
      ]
     },
     "execution_count": 4,
     "metadata": {},
     "output_type": "execute_result"
    }
   ],
   "source": [
    "orig = pd.read_csv('910564748_seattlechildrenshospital_standardcharges.csv').rename(COL_MAPPING, axis=1)\n",
    "orig = orig.drop('LAST UPDATED: 6/10/2021', axis=1)\n",
    "\n",
    "orig['cms_certification_num'] = CMS_CODE\n",
    "orig['inpatient_outpatient'] = 'UNSPECIFIED'\n",
    "\n",
    "# no internal billing code so we need to use these two cols to disambiguate\n",
    "orig['code_disambiguator'] = orig['Category'] + '-' + orig['Code Type']\n",
    "orig['internal_revenue_code'] = 'NONE'\n",
    "\n",
    "cols_subset = ['cms_certification_num', 'code', 'internal_revenue_code', 'description', 'inpatient_outpatient', 'code_disambiguator']\n",
    "\n",
    "cash = orig[cols_subset + ['cash']].rename(columns={'cash': 'price'})\n",
    "cash['payer'] = 'CASH PRICE'\n",
    "\n",
    "gross = orig[cols_subset + ['gross']].rename(columns={'gross': 'price'})\n",
    "gross['payer'] = 'GROSS CHARGE'\n",
    "\n",
    "df = pd.concat([cash, gross])\n",
    "\n",
    "# trim description just in case\n",
    "df['description'] = df['description'].str.strip()\n",
    "\n",
    "# drop nulls\n",
    "print(f\"Dropping {df['price'].isnull().sum():,} rows with null price\")\n",
    "# no null prices\n",
    "df = df.dropna(subset=['price'])\n",
    "\n",
    "zero_dollars = (df['price'] == 0)\n",
    "print(f\"Dropping {zero_dollars.sum():,} rows with $ 0.00 price\")\n",
    "df = df[~zero_dollars]\n",
    "print()\n",
    "\n",
    "# need to fill some nulls\n",
    "assert df['code'].isnull().sum() > 0\n",
    "df['code'] = df['code'].fillna('NONE')\n",
    "\n",
    "# drop complete row duplicates\n",
    "df = df.drop_duplicates()\n",
    "assert df.duplicated(keep=False).sum() == 0\n",
    "\n",
    "print(f\"min price: $ {df['price'].min():,.2f}\")\n",
    "print(f\"max price: $ {df['price'].max():,.2f}\")\n",
    "\n",
    "df.head(2)"
   ]
  },
  {
   "cell_type": "code",
   "execution_count": 5,
   "id": "118a45c3-8006-4e7e-a923-dc1f3aaa2184",
   "metadata": {},
   "outputs": [
    {
     "name": "stdout",
     "output_type": "stream",
     "text": [
      "total rows: 63,982\n"
     ]
    }
   ],
   "source": [
    "print(f'total rows: {len(df):,}')"
   ]
  },
  {
   "cell_type": "markdown",
   "id": "c7bcfb55-5a7a-459e-bbf2-b3b63f0d02f5",
   "metadata": {},
   "source": [
    "## duplicates\n",
    "\n",
    "Even after removing duplicate rows (across all columns) there are still duplicates just on the PK columns"
   ]
  },
  {
   "cell_type": "code",
   "execution_count": 6,
   "id": "d4176aa7-a9ac-4c0a-812f-f449bb4bb7b6",
   "metadata": {},
   "outputs": [
    {
     "name": "stdout",
     "output_type": "stream",
     "text": [
      "Duplicate rows across primary key: 37,082\n"
     ]
    }
   ],
   "source": [
    "pk_dupes = df[PK_COLS].duplicated(keep=False)\n",
    "print(f'Duplicate rows across primary key: {pk_dupes.sum():,}')"
   ]
  },
  {
   "cell_type": "markdown",
   "id": "d88d3e76-8674-4035-95bc-6d2e52d67074",
   "metadata": {},
   "source": [
    "### Duplicate rows across all columns except price"
   ]
  },
  {
   "cell_type": "code",
   "execution_count": 7,
   "id": "cce0e382-7453-4013-afc2-0bd2901fa535",
   "metadata": {},
   "outputs": [
    {
     "data": {
      "text/plain": [
       "63982"
      ]
     },
     "execution_count": 7,
     "metadata": {},
     "output_type": "execute_result"
    }
   ],
   "source": [
    "all_but_price_col = df.columns.tolist()\n",
    "all_but_price_col.remove('price')\n",
    "\n",
    "df = df.sort_values(all_but_price_col + ['price'], ascending=False)\n",
    "len(df)\n",
    "\n",
    "# df[df[all_but_price_col].duplicated(keep=False)].head(10)"
   ]
  },
  {
   "cell_type": "markdown",
   "id": "a08a0ad3-462c-43c4-bafc-ce2a02c2b0d3",
   "metadata": {},
   "source": [
    "Include the highest price and drop the rest"
   ]
  },
  {
   "cell_type": "code",
   "execution_count": 8,
   "id": "591527a0-a91d-4b43-81be-280459e9168f",
   "metadata": {},
   "outputs": [
    {
     "data": {
      "text/plain": [
       "54106"
      ]
     },
     "execution_count": 8,
     "metadata": {},
     "output_type": "execute_result"
    }
   ],
   "source": [
    "df = df.drop_duplicates(keep='first', subset=all_but_price_col)\n",
    "\n",
    "df = df.reset_index().drop('index', axis=1)\n",
    "\n",
    "len(df)"
   ]
  },
  {
   "cell_type": "markdown",
   "id": "eeaf647c-9da3-4d10-8cc0-0342fdd46201",
   "metadata": {},
   "source": [
    "Remaining duplicates"
   ]
  },
  {
   "cell_type": "code",
   "execution_count": 9,
   "id": "fe38e9ad-d70d-4eeb-a8d5-9119e9e50973",
   "metadata": {},
   "outputs": [
    {
     "data": {
      "text/plain": [
       "25398"
      ]
     },
     "execution_count": 9,
     "metadata": {},
     "output_type": "execute_result"
    }
   ],
   "source": [
    "remaining_dupes = df[PK_COLS].duplicated(keep=False)\n",
    "\n",
    "remaining_dupes.sum()"
   ]
  },
  {
   "cell_type": "markdown",
   "id": "19b801e4-6114-4553-8b92-664b1a6fcf44",
   "metadata": {},
   "source": [
    "## Add value to code disambiguator\n",
    "\n",
    "Add incrementing value to code_disambiguator as a final separator for rows that are identical except for the description"
   ]
  },
  {
   "cell_type": "code",
   "execution_count": 10,
   "id": "ea24a85b-4867-418b-ba84-d0ee93278818",
   "metadata": {},
   "outputs": [
    {
     "data": {
      "text/html": [
       "<div>\n",
       "<style scoped>\n",
       "    .dataframe tbody tr th:only-of-type {\n",
       "        vertical-align: middle;\n",
       "    }\n",
       "\n",
       "    .dataframe tbody tr th {\n",
       "        vertical-align: top;\n",
       "    }\n",
       "\n",
       "    .dataframe thead th {\n",
       "        text-align: right;\n",
       "    }\n",
       "</style>\n",
       "<table border=\"1\" class=\"dataframe\">\n",
       "  <thead>\n",
       "    <tr style=\"text-align: right;\">\n",
       "      <th></th>\n",
       "      <th>cms_certification_num</th>\n",
       "      <th>code</th>\n",
       "      <th>internal_revenue_code</th>\n",
       "      <th>description</th>\n",
       "      <th>inpatient_outpatient</th>\n",
       "      <th>code_disambiguator</th>\n",
       "      <th>price</th>\n",
       "      <th>payer</th>\n",
       "      <th>add_val</th>\n",
       "    </tr>\n",
       "  </thead>\n",
       "  <tbody>\n",
       "    <tr>\n",
       "      <th>0</th>\n",
       "      <td>503300</td>\n",
       "      <td>c1894</td>\n",
       "      <td>NONE</td>\n",
       "      <td>INTRODUCER CHECK FLO 5FR 0.038MM</td>\n",
       "      <td>UNSPECIFIED</td>\n",
       "      <td>RADIOLOGY-CPTHCPCS</td>\n",
       "      <td>275.00</td>\n",
       "      <td>GROSS CHARGE</td>\n",
       "      <td>1</td>\n",
       "    </tr>\n",
       "    <tr>\n",
       "      <th>1</th>\n",
       "      <td>503300</td>\n",
       "      <td>c1894</td>\n",
       "      <td>NONE</td>\n",
       "      <td>INTRODUCER CHECK FLO 5FR 0.038MM</td>\n",
       "      <td>UNSPECIFIED</td>\n",
       "      <td>RADIOLOGY-CPTHCPCS</td>\n",
       "      <td>206.25</td>\n",
       "      <td>CASH PRICE</td>\n",
       "      <td>1</td>\n",
       "    </tr>\n",
       "    <tr>\n",
       "      <th>2</th>\n",
       "      <td>503300</td>\n",
       "      <td>c1877</td>\n",
       "      <td>NONE</td>\n",
       "      <td>STENT INTRA LD 26X12MM</td>\n",
       "      <td>UNSPECIFIED</td>\n",
       "      <td>SURGICAL SERVICES-CPTHCPCS</td>\n",
       "      <td>5062.50</td>\n",
       "      <td>GROSS CHARGE</td>\n",
       "      <td>1</td>\n",
       "    </tr>\n",
       "    <tr>\n",
       "      <th>3</th>\n",
       "      <td>503300</td>\n",
       "      <td>c1877</td>\n",
       "      <td>NONE</td>\n",
       "      <td>STENT INTRA LD 26X12MM</td>\n",
       "      <td>UNSPECIFIED</td>\n",
       "      <td>SURGICAL SERVICES-CPTHCPCS</td>\n",
       "      <td>3796.88</td>\n",
       "      <td>CASH PRICE</td>\n",
       "      <td>1</td>\n",
       "    </tr>\n",
       "    <tr>\n",
       "      <th>4</th>\n",
       "      <td>503300</td>\n",
       "      <td>c1769</td>\n",
       "      <td>NONE</td>\n",
       "      <td>GUIDEWIRE HI-TORQUE 300CM</td>\n",
       "      <td>UNSPECIFIED</td>\n",
       "      <td>RADIOLOGY-CPTHCPCS</td>\n",
       "      <td>475.00</td>\n",
       "      <td>GROSS CHARGE</td>\n",
       "      <td>1</td>\n",
       "    </tr>\n",
       "  </tbody>\n",
       "</table>\n",
       "</div>"
      ],
      "text/plain": [
       "  cms_certification_num   code internal_revenue_code  \\\n",
       "0                503300  c1894                  NONE   \n",
       "1                503300  c1894                  NONE   \n",
       "2                503300  c1877                  NONE   \n",
       "3                503300  c1877                  NONE   \n",
       "4                503300  c1769                  NONE   \n",
       "\n",
       "                        description inpatient_outpatient  \\\n",
       "0  INTRODUCER CHECK FLO 5FR 0.038MM          UNSPECIFIED   \n",
       "1  INTRODUCER CHECK FLO 5FR 0.038MM          UNSPECIFIED   \n",
       "2            STENT INTRA LD 26X12MM          UNSPECIFIED   \n",
       "3            STENT INTRA LD 26X12MM          UNSPECIFIED   \n",
       "4         GUIDEWIRE HI-TORQUE 300CM          UNSPECIFIED   \n",
       "\n",
       "           code_disambiguator    price         payer  add_val  \n",
       "0          RADIOLOGY-CPTHCPCS   275.00  GROSS CHARGE        1  \n",
       "1          RADIOLOGY-CPTHCPCS   206.25    CASH PRICE        1  \n",
       "2  SURGICAL SERVICES-CPTHCPCS  5062.50  GROSS CHARGE        1  \n",
       "3  SURGICAL SERVICES-CPTHCPCS  3796.88    CASH PRICE        1  \n",
       "4          RADIOLOGY-CPTHCPCS   475.00  GROSS CHARGE        1  "
      ]
     },
     "execution_count": 10,
     "metadata": {},
     "output_type": "execute_result"
    }
   ],
   "source": [
    "df['add_val'] = None\n",
    "\n",
    "# increment by all PK columns\n",
    "df['add_val'] = df.sort_values(PK_COLS).groupby(PK_COLS).cumcount() + 1\n",
    "\n",
    "df.head()"
   ]
  },
  {
   "cell_type": "code",
   "execution_count": 11,
   "id": "d13a16f2-034d-491e-891a-05d27306a726",
   "metadata": {},
   "outputs": [],
   "source": [
    "def update_code_disambiguator(row: pd.Series) -> str:\n",
    "    cd, val = row\n",
    "    \n",
    "    if pd.isnull(cd):\n",
    "        return str(val)\n",
    "    return cd + '-' + str(val)"
   ]
  },
  {
   "cell_type": "code",
   "execution_count": 12,
   "id": "b28d6150-faf5-4a20-a33f-ad024b4c6d48",
   "metadata": {},
   "outputs": [],
   "source": [
    "# only add to remaining duplicate columns\n",
    "df.loc[remaining_dupes, 'code_disambiguator'] = df[['code_disambiguator', 'add_val']].apply(update_code_disambiguator, axis=1)"
   ]
  },
  {
   "cell_type": "code",
   "execution_count": 13,
   "id": "386e25a2-294b-4987-82da-bca0d3b8acb3",
   "metadata": {},
   "outputs": [],
   "source": [
    "# confirm there should still be some null values\n",
    "assert df['code_disambiguator'].isnull().sum() > 0\n",
    "\n",
    "# set remaining to NONE\n",
    "df.loc[df['code_disambiguator'].isnull(), 'code_disambiguator'] = 'NONE'\n",
    "\n",
    "assert df[PRICE_COLS].duplicated().sum() == 0\n",
    "assert df[PK_COLS].duplicated().sum() == 0"
   ]
  },
  {
   "cell_type": "code",
   "execution_count": 14,
   "id": "f41ae6fc-bdaa-4940-b8aa-d1ce08b530f2",
   "metadata": {},
   "outputs": [
    {
     "name": "stdout",
     "output_type": "stream",
     "text": [
      "total rows: 54,106\n"
     ]
    }
   ],
   "source": [
    "print(f'total rows: {len(df):,}')"
   ]
  },
  {
   "cell_type": "code",
   "execution_count": 15,
   "id": "e613c36b-24af-4eee-ad5f-f12b125f8e60",
   "metadata": {},
   "outputs": [],
   "source": [
    "df[PRICE_COLS].to_csv('prices.csv', index=False)"
   ]
  }
 ],
 "metadata": {
  "kernelspec": {
   "display_name": "Python 3 (ipykernel)",
   "language": "python",
   "name": "python3"
  },
  "language_info": {
   "codemirror_mode": {
    "name": "ipython",
    "version": 3
   },
   "file_extension": ".py",
   "mimetype": "text/x-python",
   "name": "python",
   "nbconvert_exporter": "python",
   "pygments_lexer": "ipython3",
   "version": "3.10.2"
  }
 },
 "nbformat": 4,
 "nbformat_minor": 5
}
